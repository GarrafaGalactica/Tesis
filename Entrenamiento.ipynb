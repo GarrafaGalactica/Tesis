{
 "cells": [
  {
   "cell_type": "code",
   "execution_count": 1,
   "id": "9818ff8a-9259-4ea8-87c7-70333f9240e1",
   "metadata": {
    "tags": []
   },
   "outputs": [
    {
     "name": "stderr",
     "output_type": "stream",
     "text": [
      "2023-11-23 14:52:58.044485: I tensorflow/core/platform/cpu_feature_guard.cc:182] This TensorFlow binary is optimized to use available CPU instructions in performance-critical operations.\n",
      "To enable the following instructions: SSE4.1 SSE4.2 AVX AVX2 FMA, in other operations, rebuild TensorFlow with the appropriate compiler flags.\n"
     ]
    }
   ],
   "source": [
    "import pandas as pd\n",
    "import matplotlib.pyplot as plt\n",
    "import numpy as np\n",
    "import re\n",
    "import seaborn as sns\n",
    "import tensorflow as tf\n",
    "from sklearn.preprocessing import LabelEncoder\n",
    "import plotly.express as px"
   ]
  },
  {
   "cell_type": "code",
   "execution_count": 2,
   "id": "38e29f36-8f25-47b0-b8bb-098b981d5d28",
   "metadata": {
    "tags": []
   },
   "outputs": [],
   "source": [
    "accesos_train = pd.read_csv(\"Escritorio/Datos/acces-log-bots_modificado.csv\", encoding='ISO-8859-1')\n",
    "def procesar_valor(valor):\n",
    "    arreglo = valor.split('/')\n",
    "    if arreglo[1] == \"norm.php\":\n",
    "        return \"Otro\"\n",
    "    if arreglo[1] == \"handle\":\n",
    "        return \"Vista\"\n",
    "    elif arreglo[1] == \"bitstream\":\n",
    "        return \"Descarga\"\n",
    "    elif arreglo[1] == \"feed\":\n",
    "        return \"Feed\"\n",
    "    elif arreglo[1] == \"themes\":\n",
    "        return \"Estatico\"\n",
    "    elif arreglo[1] == \"static\":\n",
    "        return \"Estatico\"\n",
    "    elif arreglo[1] == \"open-search\":\n",
    "        return \"Open-Search\"\n",
    "    elif arreglo[1] == \"\":\n",
    "        return \"Otro\"\n",
    "    elif re.match(r\".*discover.*\",arreglo[1]):\n",
    "        return \"Busqueda\"\n",
    "    elif re.match(r\".*search-filter.*\",arreglo[1]):\n",
    "        return \"Busqueda\"\n",
    "    elif re.match(r\".*browse.*\",arreglo[1]):\n",
    "        return \"Busqueda\"\n",
    "    elif re.match(r\".*?id.*\",arreglo[1]):\n",
    "        return \"Raro\"\n",
    "    elif arreglo[1] == \"robots.txt\":\n",
    "        return \"Robot\"\n",
    "    elif re.match(r\".*robots.txt.*\",arreglo[1]):\n",
    "        return \"Robot\"\n",
    "    elif arreglo[1] == \"oai\":\n",
    "        return \"Oai\"\n",
    "    elif arreglo[1] == \"images\":\n",
    "        return \"Estatico\"\n",
    "    elif arreglo[1] == \"pages\":\n",
    "        return \"Otro\"\n",
    "    elif arreglo[1] == \"blog\":\n",
    "        return \"Otro\"\n",
    "    elif re.match(r\".*favicon.*\",arreglo[1]): #Preguntar donde va\n",
    "        return \"Estatico\"\n",
    "    elif re.match(r\".*apple-touch-icon.*\",arreglo[1]): #Pregunar donde va\n",
    "        return \"Estatico\"\n",
    "    elif re.match(r\".*wp-.*\",arreglo[1]):\n",
    "        return \"Raro\"\n",
    "    elif arreglo[1] == \"password-login\":\n",
    "        return \"Otro\"\n",
    "    elif arreglo[1] == \"login\":\n",
    "        return \"Otro\"\n",
    "    elif arreglo[1] == \"forgot\":\n",
    "        return \"Otro\"\n",
    "    elif arreglo[1] == \"admin\":\n",
    "        return \"Otro\"\n",
    "    elif arreglo[1] == \"register\":\n",
    "        return \"Otro\"\n",
    "    elif re.match(r\".*register.*\",arreglo[1]):\n",
    "        return \"Otro\"\n",
    "    elif arreglo[1] == \"profile\":\n",
    "        return \"Otro\"\n",
    "    elif arreglo[1] == \"community-list\":\n",
    "        return \"Otro\"\n",
    "    elif arreglo[1] == \"submissions\":\n",
    "        return \"Otro\"\n",
    "    elif re.match(r\".*submit.*\",arreglo[1]):\n",
    "        return \"Otro\"\n",
    "    elif re.match(r\".*js\",arreglo[1]): \n",
    "        return \"Estatico\"\n",
    "    elif re.match(r\".*php\",arreglo[1]):\n",
    "        return \"Raro\"\n",
    "    elif re.match(r\".*xml\",arreglo[1]):\n",
    "        return \"Raro\"\n",
    "    elif re.match(r\".*choices.*\",arreglo[1]):\n",
    "        return \"Otro\"\n",
    "    elif re.match(r\".*pdf\",valor):\n",
    "        return \"Raro\"\n",
    "    elif re.match(r\"^\\..*\",arreglo[1]):\n",
    "        return \"Raro\"\n",
    "    elif arreglo[1] == \"C\":\n",
    "        return \"Raro\"\n",
    "    elif re.match(r\".*etal.*\",valor):\n",
    "        return \"Otro\"\n",
    "    elif re.match(r\"^\\?.*\",arreglo[1]):\n",
    "        return \"Raro\"\n",
    "    elif re.match(r\".*sitemap.*\",valor):\n",
    "        return \"Sitemap\"\n",
    "    elif arreglo[1] == \"templates\":\n",
    "        return \"Estatico\"\n",
    "    elif arreglo[1] == \"logout\":\n",
    "        return \"Otro\"\n",
    "    elif arreglo[1] == \"css\":\n",
    "        return \"Estatico\"\n",
    "    elif re.match(r\".*search.*\",arreglo[1]):\n",
    "        return \"Busqueda\"\n",
    "    elif re.match(r\".*wlwmanifest.xml\",valor):\n",
    "        return \"Raro\"\n",
    "    elif arreglo[1] == \"sites\":\n",
    "        return \"Otro\"\n",
    "    elif arreglo[1] == \"administrator\":\n",
    "        return \"Raro\"\n",
    "    else:\n",
    "        return \"Otro\"\n",
    "    \n",
    "accesos_train['tipo'] = accesos_train['recurso'].apply(procesar_valor)\n",
    "accesos_train['isGET'] = accesos_train['metodo'].apply(lambda x: 1 if x == 'GET' else 0)\n",
    "accesos_train['isPOST'] = accesos_train['metodo'].apply(lambda x: 1 if x == 'POST' else 0)\n",
    "accesos_train['isOTHER'] = accesos_train['metodo'].apply(lambda x: 1 if x != 'GET' and x != 'POST' else 0)\n",
    "accesos_train.drop(['metodo'], axis=1, inplace=True)"
   ]
  },
  {
   "cell_type": "code",
   "execution_count": 3,
   "id": "f05c707a-f6c7-479e-85ae-d40706246147",
   "metadata": {
    "tags": []
   },
   "outputs": [],
   "source": [
    "accesos_train.drop(['recurso','dateRaw','dia','hora','minuto', 'minuto','UserAgent', 'segundo'], axis=1, inplace=True)\n",
    "#print(accesos)"
   ]
  },
  {
   "cell_type": "code",
   "execution_count": 4,
   "id": "2be90fd2-bd88-4c75-85b0-7e5eb862a80f",
   "metadata": {
    "tags": []
   },
   "outputs": [],
   "source": [
    "ips = pd.DataFrame()\n",
    "ips[['1_octeto', '2_octeto', '3_octeto', '4_octeto']] = accesos_train['ip'].str.split('.', expand=True) #segun una tesis es la mejor manera\n",
    "accesos_train =  pd.concat([accesos_train, ips], axis=1, join='outer')\n",
    "accesos_train.drop(['ip'], axis=1, inplace=True)\n",
    "#print(accesos)"
   ]
  },
  {
   "cell_type": "code",
   "execution_count": 5,
   "id": "1526bfeb-6ec4-4596-83fb-2122eb567e39",
   "metadata": {
    "tags": []
   },
   "outputs": [],
   "source": [
    "#tipo = pd.get_dummies(accesos['tipo'], prefix='es')\n",
    "#accesos =  pd.concat([accesos, tipo], axis=1, join='outer')\n",
    "#accesos.drop(['tipo'], axis=1, inplace=True)\n",
    "#print(accesos)\n",
    "\n",
    "accesos_train[\"tipo\"], categorias = pd.factorize(accesos_train[\"tipo\"])"
   ]
  },
  {
   "cell_type": "code",
   "execution_count": 7,
   "id": "c4787924-8fe8-4807-884f-911f15721f9a",
   "metadata": {},
   "outputs": [],
   "source": [
    "#codigo = pd.get_dummies(accesos['codRespuesta'], prefix='cod')\n",
    "#accesos =  pd.concat([accesos, codigo], axis=1, join='outer')\n",
    "#accesos.drop(['codRespuesta'], axis=1, inplace=True)\n",
    "#print(accesos)\n",
    "\n",
    "accesos_train[\"codRespuesta\"], categorias = pd.factorize(accesos_train[\"codRespuesta\"])"
   ]
  },
  {
   "cell_type": "code",
   "execution_count": 9,
   "id": "84b4830d-df1b-4297-9b0f-d56f65bdf51c",
   "metadata": {
    "tags": []
   },
   "outputs": [],
   "source": [
    "accesos_train[\"1_octeto\"] = accesos_train[\"1_octeto\"].astype(int)/255\n",
    "accesos_train[\"2_octeto\"] = accesos_train[\"2_octeto\"].astype(int)/255\n",
    "accesos_train[\"3_octeto\"] = accesos_train[\"3_octeto\"].astype(int)/255\n",
    "accesos_train[\"4_octeto\"] = accesos_train[\"4_octeto\"].astype(int)/255\n",
    "#print(accesos)"
   ]
  },
  {
   "cell_type": "code",
   "execution_count": 10,
   "id": "68dee22d-a64c-4da5-9a85-1683d8e04cf7",
   "metadata": {
    "tags": []
   },
   "outputs": [
    {
     "name": "stdout",
     "output_type": "stream",
     "text": [
      "        codRespuesta  isBot  tipo  isGET  isPOST  isOTHER  1_octeto  2_octeto  \\\n",
      "0                  0      1     0      1       0        0  0.666667  0.823529   \n",
      "1                  0      0     1      1       0        0  0.709804  0.411765   \n",
      "2                  0      1     1      1       0        0  0.258824  0.976471   \n",
      "3                  0      0     2      1       0        0  0.729412  0.047059   \n",
      "4                  0      1     1      1       0        0  0.203922  0.913725   \n",
      "...              ...    ...   ...    ...     ...      ...       ...       ...   \n",
      "258663             0      1     2      1       0        0  0.184314  0.501961   \n",
      "258664             0      0     2      1       0        0  0.733333  0.776471   \n",
      "258665             0      1     2      1       0        0  0.780392  0.184314   \n",
      "258666             0      1     1      1       0        0  0.203922  0.654902   \n",
      "258667             0      0     1      1       0        0  0.466667  0.031373   \n",
      "\n",
      "        3_octeto  4_octeto  \n",
      "0       0.266667  0.498039  \n",
      "1       0.866667  0.925490  \n",
      "2       0.258824  0.058824  \n",
      "3       0.407843  0.211765  \n",
      "4       0.415686  0.741176  \n",
      "...          ...       ...  \n",
      "258663  0.105882  0.239216  \n",
      "258664  0.549020  0.027451  \n",
      "258665  0.321569  0.070588  \n",
      "258666  0.564706  0.545098  \n",
      "258667  0.592157  0.611765  \n",
      "\n",
      "[258668 rows x 10 columns]\n"
     ]
    }
   ],
   "source": [
    "accesos_train.replace({True: 1, False: 0}, inplace=True)\n",
    "print(accesos_train)"
   ]
  },
  {
   "cell_type": "code",
   "execution_count": null,
   "id": "055c9931-b6a3-4e75-a7e1-01399acc4203",
   "metadata": {},
   "outputs": [],
   "source": [
    "#indice_medio = len(accesos) // 2\n",
    "#acceosos_mitad1 = accesos.iloc[:indice_medio, :]\n",
    "#acceosos_mitad2 = accesos.iloc[indice_medio:, :]"
   ]
  },
  {
   "cell_type": "code",
   "execution_count": 11,
   "id": "3db8df48-17f2-4737-a413-bb4fcf2970f7",
   "metadata": {
    "tags": []
   },
   "outputs": [],
   "source": [
    "y_train = accesos_train[\"isBot\"]\n",
    "X_train = accesos_train.drop(['isBot'], axis=1, inplace=False)\n",
    "#print(X_train)"
   ]
  },
  {
   "cell_type": "code",
   "execution_count": 12,
   "id": "2800e729-fd2f-4d22-8c0f-044e9fda5c1c",
   "metadata": {
    "tags": []
   },
   "outputs": [
    {
     "name": "stderr",
     "output_type": "stream",
     "text": [
      "2023-11-23 14:53:47.874357: I tensorflow/core/common_runtime/process_util.cc:146] Creating new thread pool with default inter op setting: 2. Tune using inter_op_parallelism_threads for best performance.\n"
     ]
    },
    {
     "name": "stdout",
     "output_type": "stream",
     "text": [
      "Model: \"sequential\"\n",
      "_________________________________________________________________\n",
      " Layer (type)                Output Shape              Param #   \n",
      "=================================================================\n",
      " lstm (LSTM)                 (None, 26)                3744      \n",
      "                                                                 \n",
      " dense (Dense)               (None, 1)                 27        \n",
      "                                                                 \n",
      "=================================================================\n",
      "Total params: 3,771\n",
      "Trainable params: 3,771\n",
      "Non-trainable params: 0\n",
      "_________________________________________________________________\n"
     ]
    },
    {
     "name": "stderr",
     "output_type": "stream",
     "text": [
      "2023-11-23 14:53:48.163970: I tensorflow/core/common_runtime/executor.cc:1197] [/device:CPU:0] (DEBUG INFO) Executor start aborting (this does not indicate an error and you can ignore this message): INVALID_ARGUMENT: You must feed a value for placeholder tensor 'gradients/split_2_grad/concat/split_2/split_dim' with dtype int32\n",
      "\t [[{{node gradients/split_2_grad/concat/split_2/split_dim}}]]\n",
      "2023-11-23 14:53:48.165667: I tensorflow/core/common_runtime/executor.cc:1197] [/device:CPU:0] (DEBUG INFO) Executor start aborting (this does not indicate an error and you can ignore this message): INVALID_ARGUMENT: You must feed a value for placeholder tensor 'gradients/split_grad/concat/split/split_dim' with dtype int32\n",
      "\t [[{{node gradients/split_grad/concat/split/split_dim}}]]\n",
      "2023-11-23 14:53:48.166717: I tensorflow/core/common_runtime/executor.cc:1197] [/device:CPU:0] (DEBUG INFO) Executor start aborting (this does not indicate an error and you can ignore this message): INVALID_ARGUMENT: You must feed a value for placeholder tensor 'gradients/split_1_grad/concat/split_1/split_dim' with dtype int32\n",
      "\t [[{{node gradients/split_1_grad/concat/split_1/split_dim}}]]\n"
     ]
    }
   ],
   "source": [
    "# Creación del modelo\n",
    "from tensorflow.keras.models import Sequential\n",
    "from tensorflow.keras.layers import LSTM, Dense, SimpleRNN\n",
    "from tensorflow.keras.optimizers import RMSprop\n",
    "import tensorflow as tf\n",
    "\n",
    "# Ajustar parámetros para reproducibilidad del entrenamiento\n",
    "# tf.config.experimental.enable_op_determinism() Es para que las operaciones se hagan de manera deterministica\n",
    "#                                                osea que siempre se ejecute igual.\n",
    "\n",
    "# El modelo\n",
    "\n",
    "N_UNITS = 26\n",
    "ventana = 50\n",
    "campos = 9\n",
    "INPUT_SHAPE = (ventana, campos)\n",
    "\n",
    "modelo = Sequential()\n",
    "modelo.add(LSTM(N_UNITS, input_shape=INPUT_SHAPE)) #, return_sequences=True))\n",
    "#modelo.add(LSTM(64, input_shape=(50,100)))\n",
    "modelo.add(Dense(1, activation='sigmoid')) # activation = 'linear' pues queremos pronosticar (regresión)\n",
    "modelo.summary()"
   ]
  },
  {
   "cell_type": "code",
   "execution_count": 13,
   "id": "134bb79e-bd3e-447a-916d-5b87442e4b27",
   "metadata": {
    "tags": []
   },
   "outputs": [
    {
     "name": "stderr",
     "output_type": "stream",
     "text": [
      "2023-11-23 14:54:06.620347: I tensorflow/core/common_runtime/executor.cc:1197] [/device:CPU:0] (DEBUG INFO) Executor start aborting (this does not indicate an error and you can ignore this message): INVALID_ARGUMENT: You must feed a value for placeholder tensor 'Placeholder/_0' with dtype double and shape [258668,9]\n",
      "\t [[{{node Placeholder/_0}}]]\n",
      "2023-11-23 14:54:06.620562: I tensorflow/core/common_runtime/executor.cc:1197] [/device:CPU:0] (DEBUG INFO) Executor start aborting (this does not indicate an error and you can ignore this message): INVALID_ARGUMENT: You must feed a value for placeholder tensor 'Placeholder/_0' with dtype double and shape [258668,9]\n",
      "\t [[{{node Placeholder/_0}}]]\n"
     ]
    }
   ],
   "source": [
    "def create_sequences(data, window_size):\n",
    "    dataset = tf.data.Dataset.from_tensor_slices(data)\n",
    "    dataset = dataset.window(window_size, shift=1, drop_remainder=True)\n",
    "    dataset = dataset.flat_map(lambda window: window.batch(window_size))\n",
    "    return np.array(list(dataset.as_numpy_iterator()))\n",
    "\n",
    "X_train = create_sequences(X_train, ventana)"
   ]
  },
  {
   "cell_type": "code",
   "execution_count": 14,
   "id": "0264652b-d84f-4081-853d-2ff83230ae5b",
   "metadata": {
    "tags": []
   },
   "outputs": [
    {
     "name": "stdout",
     "output_type": "stream",
     "text": [
      "258619\n",
      "258619\n"
     ]
    }
   ],
   "source": [
    "print(len(X_train))\n",
    "y_train_acotado = y_train.iloc[ventana-1:]\n",
    "print(len(y_train_acotado))"
   ]
  },
  {
   "cell_type": "code",
   "execution_count": 15,
   "id": "1f83385a-5112-4b83-9cc5-5b148ae6de97",
   "metadata": {
    "tags": []
   },
   "outputs": [],
   "source": [
    "modelo.compile(loss='binary_crossentropy', optimizer='adam', metrics=['accuracy'])"
   ]
  },
  {
   "cell_type": "code",
   "execution_count": 16,
   "id": "07287caa-0257-493f-9847-fae318f7cf57",
   "metadata": {
    "tags": []
   },
   "outputs": [
    {
     "name": "stdout",
     "output_type": "stream",
     "text": [
      "Epoch 1/3\n"
     ]
    },
    {
     "name": "stderr",
     "output_type": "stream",
     "text": [
      "2023-11-23 14:55:34.653538: I tensorflow/core/common_runtime/executor.cc:1197] [/device:CPU:0] (DEBUG INFO) Executor start aborting (this does not indicate an error and you can ignore this message): INVALID_ARGUMENT: You must feed a value for placeholder tensor 'gradients/split_2_grad/concat/split_2/split_dim' with dtype int32\n",
      "\t [[{{node gradients/split_2_grad/concat/split_2/split_dim}}]]\n",
      "2023-11-23 14:55:34.655197: I tensorflow/core/common_runtime/executor.cc:1197] [/device:CPU:0] (DEBUG INFO) Executor start aborting (this does not indicate an error and you can ignore this message): INVALID_ARGUMENT: You must feed a value for placeholder tensor 'gradients/split_grad/concat/split/split_dim' with dtype int32\n",
      "\t [[{{node gradients/split_grad/concat/split/split_dim}}]]\n",
      "2023-11-23 14:55:34.656533: I tensorflow/core/common_runtime/executor.cc:1197] [/device:CPU:0] (DEBUG INFO) Executor start aborting (this does not indicate an error and you can ignore this message): INVALID_ARGUMENT: You must feed a value for placeholder tensor 'gradients/split_1_grad/concat/split_1/split_dim' with dtype int32\n",
      "\t [[{{node gradients/split_1_grad/concat/split_1/split_dim}}]]\n",
      "2023-11-23 14:55:35.355077: I tensorflow/core/common_runtime/executor.cc:1197] [/device:CPU:0] (DEBUG INFO) Executor start aborting (this does not indicate an error and you can ignore this message): INVALID_ARGUMENT: You must feed a value for placeholder tensor 'gradients/split_2_grad/concat/split_2/split_dim' with dtype int32\n",
      "\t [[{{node gradients/split_2_grad/concat/split_2/split_dim}}]]\n",
      "2023-11-23 14:55:35.357049: I tensorflow/core/common_runtime/executor.cc:1197] [/device:CPU:0] (DEBUG INFO) Executor start aborting (this does not indicate an error and you can ignore this message): INVALID_ARGUMENT: You must feed a value for placeholder tensor 'gradients/split_grad/concat/split/split_dim' with dtype int32\n",
      "\t [[{{node gradients/split_grad/concat/split/split_dim}}]]\n",
      "2023-11-23 14:55:35.358695: I tensorflow/core/common_runtime/executor.cc:1197] [/device:CPU:0] (DEBUG INFO) Executor start aborting (this does not indicate an error and you can ignore this message): INVALID_ARGUMENT: You must feed a value for placeholder tensor 'gradients/split_1_grad/concat/split_1/split_dim' with dtype int32\n",
      "\t [[{{node gradients/split_1_grad/concat/split_1/split_dim}}]]\n"
     ]
    },
    {
     "name": "stdout",
     "output_type": "stream",
     "text": [
      "4041/4041 [==============================] - 174s 43ms/step - loss: 0.4789 - accuracy: 0.7712\n",
      "Epoch 2/3\n",
      "4041/4041 [==============================] - 448s 111ms/step - loss: 0.3955 - accuracy: 0.8316\n",
      "Epoch 3/3\n",
      "4041/4041 [==============================] - 692s 171ms/step - loss: 0.3634 - accuracy: 0.8493\n"
     ]
    },
    {
     "data": {
      "text/plain": [
       "<keras.callbacks.History at 0x7f6ff12a9ed0>"
      ]
     },
     "execution_count": 16,
     "metadata": {},
     "output_type": "execute_result"
    }
   ],
   "source": [
    "modelo.fit(X_train, y_train_acotado, epochs=3, batch_size=64)"
   ]
  },
  {
   "cell_type": "code",
   "execution_count": null,
   "id": "2e78b98f-afcd-47a0-8e51-e36430cdc28f",
   "metadata": {},
   "outputs": [],
   "source": []
  }
 ],
 "metadata": {
  "kernelspec": {
   "display_name": "Python 3 (ipykernel)",
   "language": "python",
   "name": "python3"
  },
  "language_info": {
   "codemirror_mode": {
    "name": "ipython",
    "version": 3
   },
   "file_extension": ".py",
   "mimetype": "text/x-python",
   "name": "python",
   "nbconvert_exporter": "python",
   "pygments_lexer": "ipython3",
   "version": "3.11.5"
  }
 },
 "nbformat": 4,
 "nbformat_minor": 5
}

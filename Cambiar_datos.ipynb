{
 "cells": [
  {
   "cell_type": "code",
   "execution_count": 1,
   "id": "6c177f5d-c2d3-43bc-8eab-0cfd4df95db8",
   "metadata": {},
   "outputs": [],
   "source": [
    "import pandas as pd\n",
    "import matplotlib.pyplot as plt\n",
    "import numpy as np\n",
    "import re\n",
    "import seaborn as sns\n",
    "from mpl_toolkits.mplot3d import Axes3D\n",
    "from sklearn.preprocessing import LabelEncoder\n",
    "import plotly.express as px"
   ]
  },
  {
   "cell_type": "code",
   "execution_count": 2,
   "id": "1c71ebe6-91ac-423e-9917-39990c877343",
   "metadata": {
    "tags": []
   },
   "outputs": [],
   "source": [
    "accesos = pd.read_csv(\"Escritorio/Datos/acces-log-test_modificado.csv\", encoding='ISO-8859-1')"
   ]
  },
  {
   "cell_type": "code",
   "execution_count": 55,
   "id": "5e082ac6-6fae-4828-a152-3c24e897c22a",
   "metadata": {
    "tags": []
   },
   "outputs": [],
   "source": [
    "ip = \"190.188.85.204\""
   ]
  },
  {
   "cell_type": "code",
   "execution_count": 56,
   "id": "84a5c544-1578-4db2-acaa-0a5c052a446e",
   "metadata": {
    "tags": []
   },
   "outputs": [],
   "source": [
    "accesos.loc[accesos[\"ip\"]==ip, \"isBot\"] = True"
   ]
  },
  {
   "cell_type": "code",
   "execution_count": 57,
   "id": "26946af0-b6a7-49ea-b8da-360f9e0543bf",
   "metadata": {
    "tags": []
   },
   "outputs": [
    {
     "name": "stdout",
     "output_type": "stream",
     "text": [
      "                          dateRaw  dia  hora  minuto  segundo              ip  \\\n",
      "65893   2023-10-15 09:45:55-03:00   15     9      45       55  190.188.85.204   \n",
      "65894   2023-10-15 09:45:56-03:00   15     9      45       56  190.188.85.204   \n",
      "65895   2023-10-15 09:45:56-03:00   15     9      45       56  190.188.85.204   \n",
      "65897   2023-10-15 09:45:56-03:00   15     9      45       56  190.188.85.204   \n",
      "65898   2023-10-15 09:45:56-03:00   15     9      45       56  190.188.85.204   \n",
      "...                           ...  ...   ...     ...      ...             ...   \n",
      "103983  2023-10-15 14:49:21-03:00   15    14      49       21  190.188.85.204   \n",
      "104016  2023-10-15 14:49:37-03:00   15    14      49       37  190.188.85.204   \n",
      "105759  2023-10-15 15:01:49-03:00   15    15       1       49  190.188.85.204   \n",
      "105760  2023-10-15 15:01:51-03:00   15    15       1       51  190.188.85.204   \n",
      "106089  2023-10-15 15:04:22-03:00   15    15       4       22  190.188.85.204   \n",
      "\n",
      "       metodo                                            recurso  \\\n",
      "65893     GET                                                  /   \n",
      "65894     GET       /themes/Sedici2/lib/css/slideshow-sedici.css   \n",
      "65895     GET         /themes/Sedici2/lib/js/slideshow-sedici.js   \n",
      "65897     GET  /themes/Sedici2/images/home_statistics_button.png   \n",
      "65898     GET  /themes/Sedici2/images/home_obligacion_deposit...   \n",
      "...       ...                                                ...   \n",
      "103983    GET  /bitstream/handle/10915/106066/Documento_compl...   \n",
      "104016    GET  /discover?etal=0&group_by=none&page=3&query=ma...   \n",
      "105759    GET                                /handle/10915/51072   \n",
      "105760    GET  /bitstream/handle/10915/51072/10_2975-10873-1-...   \n",
      "106089    GET  /bitstream/handle/10915/51072/Documento_comple...   \n",
      "\n",
      "        codRespuesta                                          UserAgent  isBot  \n",
      "65893            200  Mozilla/5.0 (Windows NT 10.0; Win64; x64) Appl...   True  \n",
      "65894            200  Mozilla/5.0 (Windows NT 10.0; Win64; x64) Appl...   True  \n",
      "65895            200  Mozilla/5.0 (Windows NT 10.0; Win64; x64) Appl...   True  \n",
      "65897            200  Mozilla/5.0 (Windows NT 10.0; Win64; x64) Appl...   True  \n",
      "65898            200  Mozilla/5.0 (Windows NT 10.0; Win64; x64) Appl...   True  \n",
      "...              ...                                                ...    ...  \n",
      "103983           200  Mozilla/5.0 (Windows NT 10.0; Win64; x64) Appl...   True  \n",
      "104016           200  Mozilla/5.0 (Windows NT 10.0; Win64; x64) Appl...   True  \n",
      "105759           200  Mozilla/5.0 (Windows NT 10.0; Win64; x64) Appl...   True  \n",
      "105760           200  Mozilla/5.0 (Windows NT 10.0; Win64; x64) Appl...   True  \n",
      "106089           200  Mozilla/5.0 (Windows NT 10.0; Win64; x64) Appl...   True  \n",
      "\n",
      "[155 rows x 11 columns]\n"
     ]
    }
   ],
   "source": [
    "print(accesos.loc[accesos[\"ip\"]==ip])"
   ]
  },
  {
   "cell_type": "code",
   "execution_count": null,
   "id": "dcceb552-2537-4a79-a225-a27928ac891c",
   "metadata": {
    "tags": []
   },
   "outputs": [],
   "source": [
    "accesos.to_csv(\"Escritorio/Datos/acces-log-test_modificado.csv\", index = False)"
   ]
  },
  {
   "cell_type": "raw",
   "id": "304abd3d-70e1-488d-9ee2-ce51e373a628",
   "metadata": {},
   "source": [
    "BOTS MODIFICADOS en train:\n",
    "-141.94.194.132\n",
    "-144.217.224.121\n",
    "-149.88.19.239\n",
    "-185.254.37.149\n",
    "-193.142.146.226\n",
    "-45.81.39.25\n",
    "-103.253.147.116\n",
    "-41.216.188.168\n",
    "-88.243.193.123\n",
    "-194.169.175.93\n",
    "-78.142.18.92\n",
    "-154.26.135.183\n",
    "-128.199.139.217\n",
    "-79.124.8.3\n",
    "-117.247.82.153\n",
    "-207.254.137.92\n",
    "-43.251.16.209\n",
    "-103.15.252.103\n",
    "-181.39.24.232"
   ]
  },
  {
   "cell_type": "raw",
   "id": "6149cb4f-5b74-4df8-8f58-abf2a2f38bec",
   "metadata": {},
   "source": [
    "BOTS MODIFICADOS en test:\n",
    "-141.94.194.132\n",
    "-79.124.8.3\n",
    "-200.61.165.55\n",
    "-193.142.146.226\n",
    "-52.147.207.233\n",
    "-220.250.48.131\n",
    "-65.21.136.254\n",
    "-157.230.245.5\n",
    "-104.250.237.82\n",
    "-103.77.106.57\n",
    "-194.169.175.92\n",
    "-194.169.175.26\n",
    "-46.1.239.27\n",
    "-190.188.85.204"
   ]
  },
  {
   "cell_type": "code",
   "execution_count": null,
   "id": "019ae4cf-2ace-4900-bf1c-2512f583e3a7",
   "metadata": {},
   "outputs": [],
   "source": []
  }
 ],
 "metadata": {
  "kernelspec": {
   "display_name": "Python 3 (ipykernel)",
   "language": "python",
   "name": "python3"
  },
  "language_info": {
   "codemirror_mode": {
    "name": "ipython",
    "version": 3
   },
   "file_extension": ".py",
   "mimetype": "text/x-python",
   "name": "python",
   "nbconvert_exporter": "python",
   "pygments_lexer": "ipython3",
   "version": "3.11.5"
  }
 },
 "nbformat": 4,
 "nbformat_minor": 5
}
